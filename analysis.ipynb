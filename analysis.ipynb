{
  "nbformat": 4,
  "nbformat_minor": 0,
  "metadata": {
    "colab": {
      "name": "analysis.ipynb",
      "provenance": [],
      "include_colab_link": true
    },
    "kernelspec": {
      "name": "python3",
      "display_name": "Python 3"
    }
  },
  "cells": [
    {
      "cell_type": "markdown",
      "metadata": {
        "id": "view-in-github",
        "colab_type": "text"
      },
      "source": [
        "<a href=\"https://colab.research.google.com/github/daanishrasheed/WeatherForecasting/blob/main/analysis.ipynb\" target=\"_parent\"><img src=\"https://colab.research.google.com/assets/colab-badge.svg\" alt=\"Open In Colab\"/></a>"
      ]
    },
    {
      "cell_type": "code",
      "metadata": {
        "id": "xT0K_YvMO-0I"
      },
      "source": [
        "import numpy as np\r\n",
        "import pandas as pd\r\n",
        "import plotly.express as px \r\n",
        "import plotly.graph_objects as go\r\n",
        "from plotly.subplots import make_subplots\r\n",
        "from datetime import datetime"
      ],
      "execution_count": 9,
      "outputs": []
    },
    {
      "cell_type": "code",
      "metadata": {
        "id": "SbMnHExAPIQr"
      },
      "source": [
        "df = pd.read_csv(\"Weather.csv\", index_col = 0)"
      ],
      "execution_count": 10,
      "outputs": []
    },
    {
      "cell_type": "code",
      "metadata": {
        "colab": {
          "base_uri": "https://localhost:8080/",
          "height": 204
        },
        "id": "9hjxZUZTPXHE",
        "outputId": "cabd166b-60a8-4107-e09d-6a5659c0e4ec"
      },
      "source": [
        "df.head()"
      ],
      "execution_count": 11,
      "outputs": [
        {
          "output_type": "execute_result",
          "data": {
            "text/html": [
              "<div>\n",
              "<style scoped>\n",
              "    .dataframe tbody tr th:only-of-type {\n",
              "        vertical-align: middle;\n",
              "    }\n",
              "\n",
              "    .dataframe tbody tr th {\n",
              "        vertical-align: top;\n",
              "    }\n",
              "\n",
              "    .dataframe thead th {\n",
              "        text-align: right;\n",
              "    }\n",
              "</style>\n",
              "<table border=\"1\" class=\"dataframe\">\n",
              "  <thead>\n",
              "    <tr style=\"text-align: right;\">\n",
              "      <th></th>\n",
              "      <th>YEAR</th>\n",
              "      <th>JAN</th>\n",
              "      <th>FEB</th>\n",
              "      <th>MAR</th>\n",
              "      <th>APR</th>\n",
              "      <th>MAY</th>\n",
              "      <th>JUN</th>\n",
              "      <th>JUL</th>\n",
              "      <th>AUG</th>\n",
              "      <th>SEP</th>\n",
              "      <th>OCT</th>\n",
              "      <th>NOV</th>\n",
              "      <th>DEC</th>\n",
              "    </tr>\n",
              "  </thead>\n",
              "  <tbody>\n",
              "    <tr>\n",
              "      <th>0</th>\n",
              "      <td>1901</td>\n",
              "      <td>17.99</td>\n",
              "      <td>19.43</td>\n",
              "      <td>23.49</td>\n",
              "      <td>26.41</td>\n",
              "      <td>28.28</td>\n",
              "      <td>28.60</td>\n",
              "      <td>27.49</td>\n",
              "      <td>26.98</td>\n",
              "      <td>26.26</td>\n",
              "      <td>25.08</td>\n",
              "      <td>21.73</td>\n",
              "      <td>18.95</td>\n",
              "    </tr>\n",
              "    <tr>\n",
              "      <th>1</th>\n",
              "      <td>1902</td>\n",
              "      <td>19.00</td>\n",
              "      <td>20.39</td>\n",
              "      <td>24.10</td>\n",
              "      <td>26.54</td>\n",
              "      <td>28.68</td>\n",
              "      <td>28.44</td>\n",
              "      <td>27.29</td>\n",
              "      <td>27.05</td>\n",
              "      <td>25.95</td>\n",
              "      <td>24.37</td>\n",
              "      <td>21.33</td>\n",
              "      <td>18.78</td>\n",
              "    </tr>\n",
              "    <tr>\n",
              "      <th>2</th>\n",
              "      <td>1903</td>\n",
              "      <td>18.32</td>\n",
              "      <td>19.79</td>\n",
              "      <td>22.46</td>\n",
              "      <td>26.03</td>\n",
              "      <td>27.93</td>\n",
              "      <td>28.41</td>\n",
              "      <td>28.04</td>\n",
              "      <td>26.63</td>\n",
              "      <td>26.34</td>\n",
              "      <td>24.57</td>\n",
              "      <td>20.96</td>\n",
              "      <td>18.29</td>\n",
              "    </tr>\n",
              "    <tr>\n",
              "      <th>3</th>\n",
              "      <td>1904</td>\n",
              "      <td>17.77</td>\n",
              "      <td>19.39</td>\n",
              "      <td>22.95</td>\n",
              "      <td>26.73</td>\n",
              "      <td>27.83</td>\n",
              "      <td>27.85</td>\n",
              "      <td>26.84</td>\n",
              "      <td>26.73</td>\n",
              "      <td>25.84</td>\n",
              "      <td>24.36</td>\n",
              "      <td>21.07</td>\n",
              "      <td>18.84</td>\n",
              "    </tr>\n",
              "    <tr>\n",
              "      <th>4</th>\n",
              "      <td>1905</td>\n",
              "      <td>17.40</td>\n",
              "      <td>17.79</td>\n",
              "      <td>21.78</td>\n",
              "      <td>24.84</td>\n",
              "      <td>28.32</td>\n",
              "      <td>28.69</td>\n",
              "      <td>27.67</td>\n",
              "      <td>27.47</td>\n",
              "      <td>26.29</td>\n",
              "      <td>26.16</td>\n",
              "      <td>22.07</td>\n",
              "      <td>18.71</td>\n",
              "    </tr>\n",
              "  </tbody>\n",
              "</table>\n",
              "</div>"
            ],
            "text/plain": [
              "   YEAR    JAN    FEB    MAR    APR  ...    AUG    SEP    OCT    NOV    DEC\n",
              "0  1901  17.99  19.43  23.49  26.41  ...  26.98  26.26  25.08  21.73  18.95\n",
              "1  1902  19.00  20.39  24.10  26.54  ...  27.05  25.95  24.37  21.33  18.78\n",
              "2  1903  18.32  19.79  22.46  26.03  ...  26.63  26.34  24.57  20.96  18.29\n",
              "3  1904  17.77  19.39  22.95  26.73  ...  26.73  25.84  24.36  21.07  18.84\n",
              "4  1905  17.40  17.79  21.78  24.84  ...  27.47  26.29  26.16  22.07  18.71\n",
              "\n",
              "[5 rows x 13 columns]"
            ]
          },
          "metadata": {
            "tags": []
          },
          "execution_count": 11
        }
      ]
    },
    {
      "cell_type": "markdown",
      "metadata": {
        "id": "gsi7Y-6ZBcKx"
      },
      "source": [
        "In its current state, this dataframe is difficult to perform analysis on. We will try to rearrange the columns and rows to a more reliable form."
      ]
    },
    {
      "cell_type": "code",
      "metadata": {
        "colab": {
          "base_uri": "https://localhost:8080/",
          "height": 204
        },
        "id": "2uhGAu_iPYcF",
        "outputId": "066cde3c-c4f8-4ec8-ca67-8d85e53d9eaf"
      },
      "source": [
        "df1 = pd.melt(df, id_vars='YEAR', value_vars=df.columns[1:])\r\n",
        "df1.head()"
      ],
      "execution_count": 12,
      "outputs": [
        {
          "output_type": "execute_result",
          "data": {
            "text/html": [
              "<div>\n",
              "<style scoped>\n",
              "    .dataframe tbody tr th:only-of-type {\n",
              "        vertical-align: middle;\n",
              "    }\n",
              "\n",
              "    .dataframe tbody tr th {\n",
              "        vertical-align: top;\n",
              "    }\n",
              "\n",
              "    .dataframe thead th {\n",
              "        text-align: right;\n",
              "    }\n",
              "</style>\n",
              "<table border=\"1\" class=\"dataframe\">\n",
              "  <thead>\n",
              "    <tr style=\"text-align: right;\">\n",
              "      <th></th>\n",
              "      <th>YEAR</th>\n",
              "      <th>variable</th>\n",
              "      <th>value</th>\n",
              "    </tr>\n",
              "  </thead>\n",
              "  <tbody>\n",
              "    <tr>\n",
              "      <th>0</th>\n",
              "      <td>1901</td>\n",
              "      <td>JAN</td>\n",
              "      <td>17.99</td>\n",
              "    </tr>\n",
              "    <tr>\n",
              "      <th>1</th>\n",
              "      <td>1902</td>\n",
              "      <td>JAN</td>\n",
              "      <td>19.00</td>\n",
              "    </tr>\n",
              "    <tr>\n",
              "      <th>2</th>\n",
              "      <td>1903</td>\n",
              "      <td>JAN</td>\n",
              "      <td>18.32</td>\n",
              "    </tr>\n",
              "    <tr>\n",
              "      <th>3</th>\n",
              "      <td>1904</td>\n",
              "      <td>JAN</td>\n",
              "      <td>17.77</td>\n",
              "    </tr>\n",
              "    <tr>\n",
              "      <th>4</th>\n",
              "      <td>1905</td>\n",
              "      <td>JAN</td>\n",
              "      <td>17.40</td>\n",
              "    </tr>\n",
              "  </tbody>\n",
              "</table>\n",
              "</div>"
            ],
            "text/plain": [
              "   YEAR variable  value\n",
              "0  1901      JAN  17.99\n",
              "1  1902      JAN  19.00\n",
              "2  1903      JAN  18.32\n",
              "3  1904      JAN  17.77\n",
              "4  1905      JAN  17.40"
            ]
          },
          "metadata": {
            "tags": []
          },
          "execution_count": 12
        }
      ]
    },
    {
      "cell_type": "code",
      "metadata": {
        "colab": {
          "base_uri": "https://localhost:8080/",
          "height": 204
        },
        "id": "oSP1fFCkXzUK",
        "outputId": "56c06a0a-15a7-4c47-e07d-bcec566ddea4"
      },
      "source": [
        "df1['Date'] = df1['variable'] + ' ' + df1['YEAR'].astype(str)\r\n",
        "df1.loc[:, 'Date'] = df1['Date'].apply(lambda x: datetime.strptime(x, '%b %Y'))\r\n",
        "df1.head()"
      ],
      "execution_count": 13,
      "outputs": [
        {
          "output_type": "execute_result",
          "data": {
            "text/html": [
              "<div>\n",
              "<style scoped>\n",
              "    .dataframe tbody tr th:only-of-type {\n",
              "        vertical-align: middle;\n",
              "    }\n",
              "\n",
              "    .dataframe tbody tr th {\n",
              "        vertical-align: top;\n",
              "    }\n",
              "\n",
              "    .dataframe thead th {\n",
              "        text-align: right;\n",
              "    }\n",
              "</style>\n",
              "<table border=\"1\" class=\"dataframe\">\n",
              "  <thead>\n",
              "    <tr style=\"text-align: right;\">\n",
              "      <th></th>\n",
              "      <th>YEAR</th>\n",
              "      <th>variable</th>\n",
              "      <th>value</th>\n",
              "      <th>Date</th>\n",
              "    </tr>\n",
              "  </thead>\n",
              "  <tbody>\n",
              "    <tr>\n",
              "      <th>0</th>\n",
              "      <td>1901</td>\n",
              "      <td>JAN</td>\n",
              "      <td>17.99</td>\n",
              "      <td>1901-01-01</td>\n",
              "    </tr>\n",
              "    <tr>\n",
              "      <th>1</th>\n",
              "      <td>1902</td>\n",
              "      <td>JAN</td>\n",
              "      <td>19.00</td>\n",
              "      <td>1902-01-01</td>\n",
              "    </tr>\n",
              "    <tr>\n",
              "      <th>2</th>\n",
              "      <td>1903</td>\n",
              "      <td>JAN</td>\n",
              "      <td>18.32</td>\n",
              "      <td>1903-01-01</td>\n",
              "    </tr>\n",
              "    <tr>\n",
              "      <th>3</th>\n",
              "      <td>1904</td>\n",
              "      <td>JAN</td>\n",
              "      <td>17.77</td>\n",
              "      <td>1904-01-01</td>\n",
              "    </tr>\n",
              "    <tr>\n",
              "      <th>4</th>\n",
              "      <td>1905</td>\n",
              "      <td>JAN</td>\n",
              "      <td>17.40</td>\n",
              "      <td>1905-01-01</td>\n",
              "    </tr>\n",
              "  </tbody>\n",
              "</table>\n",
              "</div>"
            ],
            "text/plain": [
              "   YEAR variable  value       Date\n",
              "0  1901      JAN  17.99 1901-01-01\n",
              "1  1902      JAN  19.00 1902-01-01\n",
              "2  1903      JAN  18.32 1903-01-01\n",
              "3  1904      JAN  17.77 1904-01-01\n",
              "4  1905      JAN  17.40 1905-01-01"
            ]
          },
          "metadata": {
            "tags": []
          },
          "execution_count": 13
        }
      ]
    },
    {
      "cell_type": "code",
      "metadata": {
        "colab": {
          "base_uri": "https://localhost:8080/",
          "height": 204
        },
        "id": "IFNKcCpyE1y_",
        "outputId": "d1f56602-580d-4a63-d12c-10f83e7888fe"
      },
      "source": [
        "df1.columns=['Year', 'Month', 'Temperature', 'Date']\r\n",
        "df1.head()"
      ],
      "execution_count": 14,
      "outputs": [
        {
          "output_type": "execute_result",
          "data": {
            "text/html": [
              "<div>\n",
              "<style scoped>\n",
              "    .dataframe tbody tr th:only-of-type {\n",
              "        vertical-align: middle;\n",
              "    }\n",
              "\n",
              "    .dataframe tbody tr th {\n",
              "        vertical-align: top;\n",
              "    }\n",
              "\n",
              "    .dataframe thead th {\n",
              "        text-align: right;\n",
              "    }\n",
              "</style>\n",
              "<table border=\"1\" class=\"dataframe\">\n",
              "  <thead>\n",
              "    <tr style=\"text-align: right;\">\n",
              "      <th></th>\n",
              "      <th>Year</th>\n",
              "      <th>Month</th>\n",
              "      <th>Temperature</th>\n",
              "      <th>Date</th>\n",
              "    </tr>\n",
              "  </thead>\n",
              "  <tbody>\n",
              "    <tr>\n",
              "      <th>0</th>\n",
              "      <td>1901</td>\n",
              "      <td>JAN</td>\n",
              "      <td>17.99</td>\n",
              "      <td>1901-01-01</td>\n",
              "    </tr>\n",
              "    <tr>\n",
              "      <th>1</th>\n",
              "      <td>1902</td>\n",
              "      <td>JAN</td>\n",
              "      <td>19.00</td>\n",
              "      <td>1902-01-01</td>\n",
              "    </tr>\n",
              "    <tr>\n",
              "      <th>2</th>\n",
              "      <td>1903</td>\n",
              "      <td>JAN</td>\n",
              "      <td>18.32</td>\n",
              "      <td>1903-01-01</td>\n",
              "    </tr>\n",
              "    <tr>\n",
              "      <th>3</th>\n",
              "      <td>1904</td>\n",
              "      <td>JAN</td>\n",
              "      <td>17.77</td>\n",
              "      <td>1904-01-01</td>\n",
              "    </tr>\n",
              "    <tr>\n",
              "      <th>4</th>\n",
              "      <td>1905</td>\n",
              "      <td>JAN</td>\n",
              "      <td>17.40</td>\n",
              "      <td>1905-01-01</td>\n",
              "    </tr>\n",
              "  </tbody>\n",
              "</table>\n",
              "</div>"
            ],
            "text/plain": [
              "   Year Month  Temperature       Date\n",
              "0  1901   JAN        17.99 1901-01-01\n",
              "1  1902   JAN        19.00 1902-01-01\n",
              "2  1903   JAN        18.32 1903-01-01\n",
              "3  1904   JAN        17.77 1904-01-01\n",
              "4  1905   JAN        17.40 1905-01-01"
            ]
          },
          "metadata": {
            "tags": []
          },
          "execution_count": 14
        }
      ]
    },
    {
      "cell_type": "code",
      "metadata": {
        "colab": {
          "base_uri": "https://localhost:8080/",
          "height": 204
        },
        "id": "7RTPtdJrGvpb",
        "outputId": "4c2de3f0-9179-4072-af18-9d7c78ad0774"
      },
      "source": [
        "df1.sort_values(by = 'Date', inplace=True)\r\n",
        "df1.head()"
      ],
      "execution_count": 15,
      "outputs": [
        {
          "output_type": "execute_result",
          "data": {
            "text/html": [
              "<div>\n",
              "<style scoped>\n",
              "    .dataframe tbody tr th:only-of-type {\n",
              "        vertical-align: middle;\n",
              "    }\n",
              "\n",
              "    .dataframe tbody tr th {\n",
              "        vertical-align: top;\n",
              "    }\n",
              "\n",
              "    .dataframe thead th {\n",
              "        text-align: right;\n",
              "    }\n",
              "</style>\n",
              "<table border=\"1\" class=\"dataframe\">\n",
              "  <thead>\n",
              "    <tr style=\"text-align: right;\">\n",
              "      <th></th>\n",
              "      <th>Year</th>\n",
              "      <th>Month</th>\n",
              "      <th>Temperature</th>\n",
              "      <th>Date</th>\n",
              "    </tr>\n",
              "  </thead>\n",
              "  <tbody>\n",
              "    <tr>\n",
              "      <th>0</th>\n",
              "      <td>1901</td>\n",
              "      <td>JAN</td>\n",
              "      <td>17.99</td>\n",
              "      <td>1901-01-01</td>\n",
              "    </tr>\n",
              "    <tr>\n",
              "      <th>117</th>\n",
              "      <td>1901</td>\n",
              "      <td>FEB</td>\n",
              "      <td>19.43</td>\n",
              "      <td>1901-02-01</td>\n",
              "    </tr>\n",
              "    <tr>\n",
              "      <th>234</th>\n",
              "      <td>1901</td>\n",
              "      <td>MAR</td>\n",
              "      <td>23.49</td>\n",
              "      <td>1901-03-01</td>\n",
              "    </tr>\n",
              "    <tr>\n",
              "      <th>351</th>\n",
              "      <td>1901</td>\n",
              "      <td>APR</td>\n",
              "      <td>26.41</td>\n",
              "      <td>1901-04-01</td>\n",
              "    </tr>\n",
              "    <tr>\n",
              "      <th>468</th>\n",
              "      <td>1901</td>\n",
              "      <td>MAY</td>\n",
              "      <td>28.28</td>\n",
              "      <td>1901-05-01</td>\n",
              "    </tr>\n",
              "  </tbody>\n",
              "</table>\n",
              "</div>"
            ],
            "text/plain": [
              "     Year Month  Temperature       Date\n",
              "0    1901   JAN        17.99 1901-01-01\n",
              "117  1901   FEB        19.43 1901-02-01\n",
              "234  1901   MAR        23.49 1901-03-01\n",
              "351  1901   APR        26.41 1901-04-01\n",
              "468  1901   MAY        28.28 1901-05-01"
            ]
          },
          "metadata": {
            "tags": []
          },
          "execution_count": 15
        }
      ]
    },
    {
      "cell_type": "code",
      "metadata": {
        "id": "FmZoqx9zHZhq"
      },
      "source": [
        ""
      ],
      "execution_count": null,
      "outputs": []
    }
  ]
}